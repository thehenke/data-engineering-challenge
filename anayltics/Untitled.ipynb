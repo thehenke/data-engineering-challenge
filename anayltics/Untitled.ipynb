{
 "cells": [
  {
   "cell_type": "code",
   "execution_count": 9,
   "metadata": {},
   "outputs": [],
   "source": [
    "import pandas as pd\n",
    "import numpy as np"
   ]
  },
  {
   "cell_type": "code",
   "execution_count": 10,
   "metadata": {},
   "outputs": [
    {
     "data": {
      "text/plain": [
       "Index(['SalesOrderID', 'SalesOrderDetailID', 'CarrierTrackingNumber',\n",
       "       'OrderQty', 'ProductID', 'SpecialOfferID', 'UnitPrice',\n",
       "       'UnitPriceDiscount', 'LineTotal', 'rowguid', 'ModifiedDate'],\n",
       "      dtype='object')"
      ]
     },
     "execution_count": 10,
     "metadata": {},
     "output_type": "execute_result"
    }
   ],
   "source": [
    "salers_order_detail = pd.read_csv('../data/Sales.SalesOrderDetail.csv', delimiter = ';') \n",
    "salers_order_detail.columns"
   ]
  },
  {
   "cell_type": "code",
   "execution_count": 11,
   "metadata": {},
   "outputs": [
    {
     "data": {
      "text/plain": [
       "SalesOrderID               int64\n",
       "SalesOrderDetailID         int64\n",
       "CarrierTrackingNumber     object\n",
       "OrderQty                   int64\n",
       "ProductID                  int64\n",
       "SpecialOfferID             int64\n",
       "UnitPrice                 object\n",
       "UnitPriceDiscount         object\n",
       "LineTotal                float64\n",
       "rowguid                   object\n",
       "ModifiedDate              object\n",
       "dtype: object"
      ]
     },
     "execution_count": 11,
     "metadata": {},
     "output_type": "execute_result"
    }
   ],
   "source": [
    "salers_order_detail.dtypes"
   ]
  },
  {
   "cell_type": "code",
   "execution_count": null,
   "metadata": {},
   "outputs": [],
   "source": []
  }
 ],
 "metadata": {
  "kernelspec": {
   "display_name": "Python 3",
   "language": "python",
   "name": "python3"
  },
  "language_info": {
   "codemirror_mode": {
    "name": "ipython",
    "version": 3
   },
   "file_extension": ".py",
   "mimetype": "text/x-python",
   "name": "python",
   "nbconvert_exporter": "python",
   "pygments_lexer": "ipython3",
   "version": "3.8.5"
  }
 },
 "nbformat": 4,
 "nbformat_minor": 4
}
