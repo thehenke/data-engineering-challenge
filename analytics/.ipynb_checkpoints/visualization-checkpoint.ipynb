{
 "cells": [
  {
   "cell_type": "code",
   "execution_count": 12,
   "metadata": {},
   "outputs": [],
   "source": [
    "import pandas as pd\n",
    "import numpy as np"
   ]
  },
  {
   "cell_type": "code",
   "execution_count": 16,
   "metadata": {},
   "outputs": [
    {
     "data": {
      "text/plain": [
       "Index(['SalesOrderID', 'RevisionNumber', 'OrderDate', 'DueDate', 'ShipDate',\n",
       "       'Status', 'OnlineOrderFlag', 'SalesOrderNumber', 'PurchaseOrderNumber',\n",
       "       'AccountNumber', 'CustomerID', 'SalesPersonID', 'TerritoryID',\n",
       "       'BillToAddressID', 'ShipToAddressID', 'ShipMethodID', 'CreditCardID',\n",
       "       'CreditCardApprovalCode', 'CurrencyRateID', 'SubTotal', 'TaxAmt',\n",
       "       'Freight', 'TotalDue', 'Comment', 'rowguid', 'ModifiedDate'],\n",
       "      dtype='object')"
      ]
     },
     "execution_count": 16,
     "metadata": {},
     "output_type": "execute_result"
    }
   ],
   "source": [
    "salers_order_detail = pd.read_csv('../data/Sales.SalesOrderHeader.csv', delimiter = ';') \n",
    "salers_order_detail.columns"
   ]
  },
  {
   "cell_type": "code",
   "execution_count": 17,
   "metadata": {},
   "outputs": [
    {
     "data": {
      "text/plain": [
       "SalesOrderID                int64\n",
       "RevisionNumber              int64\n",
       "OrderDate                  object\n",
       "DueDate                    object\n",
       "ShipDate                   object\n",
       "Status                      int64\n",
       "OnlineOrderFlag             int64\n",
       "SalesOrderNumber           object\n",
       "PurchaseOrderNumber        object\n",
       "AccountNumber              object\n",
       "CustomerID                  int64\n",
       "SalesPersonID             float64\n",
       "TerritoryID                 int64\n",
       "BillToAddressID             int64\n",
       "ShipToAddressID             int64\n",
       "ShipMethodID                int64\n",
       "CreditCardID              float64\n",
       "CreditCardApprovalCode     object\n",
       "CurrencyRateID            float64\n",
       "SubTotal                   object\n",
       "TaxAmt                     object\n",
       "Freight                    object\n",
       "TotalDue                   object\n",
       "Comment                   float64\n",
       "rowguid                    object\n",
       "ModifiedDate               object\n",
       "dtype: object"
      ]
     },
     "execution_count": 17,
     "metadata": {},
     "output_type": "execute_result"
    }
   ],
   "source": [
    "salers_order_detail.dtypes"
   ]
  },
  {
   "cell_type": "code",
   "execution_count": null,
   "metadata": {},
   "outputs": [],
   "source": []
  }
 ],
 "metadata": {
  "kernelspec": {
   "display_name": "Python 3",
   "language": "python",
   "name": "python3"
  },
  "language_info": {
   "codemirror_mode": {
    "name": "ipython",
    "version": 3
   },
   "file_extension": ".py",
   "mimetype": "text/x-python",
   "name": "python",
   "nbconvert_exporter": "python",
   "pygments_lexer": "ipython3",
   "version": "3.8.5"
  }
 },
 "nbformat": 4,
 "nbformat_minor": 4
}
